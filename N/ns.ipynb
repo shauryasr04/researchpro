{
 "metadata": {
  "language_info": {
   "codemirror_mode": {
    "name": "ipython",
    "version": 3
   },
   "file_extension": ".py",
   "mimetype": "text/x-python",
   "name": "python",
   "nbconvert_exporter": "python",
   "pygments_lexer": "ipython3",
   "version": "3.7.6-final"
  },
  "orig_nbformat": 2,
  "kernelspec": {
   "name": "python3",
   "display_name": "Python 3",
   "language": "python"
  }
 },
 "nbformat": 4,
 "nbformat_minor": 2,
 "cells": [
  {
   "cell_type": "code",
   "execution_count": 38,
   "metadata": {},
   "outputs": [],
   "source": [
    "subscription_key = \"5b1d8775f8fd485e9fd2bea8c1d21d16\"\n",
    "assert subscription_key\n",
    "search_url = \"https://api.bing.microsoft.com/v7.0/search\"\n",
    "search_term = \"fintech faculty site:duke.edu\""
   ]
  },
  {
   "cell_type": "code",
   "execution_count": 39,
   "metadata": {},
   "outputs": [],
   "source": [
    "import requests\n",
    "\n",
    "headers = {\"Ocp-Apim-Subscription-Key\": subscription_key}\n",
    "params = {\"q\": search_term, \"textDecorations\": True, \"textFormat\": \"HTML\",\"count\": 1}\n",
    "response = requests.get(search_url, headers=headers, params=params)\n",
    "response.raise_for_status()\n",
    "search_results = response.json()"
   ]
  },
  {
   "cell_type": "code",
   "execution_count": 40,
   "metadata": {},
   "outputs": [
    {
     "output_type": "execute_result",
     "data": {
      "text/plain": [
       "<IPython.core.display.HTML object>"
      ],
      "text/html": "<table><tr>\n                       <td><a href=\"https://fintech.meng.duke.edu/faculty\">Faculty | Duke FinTech Master of Engineering</a></td>\n                       <td>Detailed profiles of the <b>faculty</b> members of the Duke Financial Technology Masters of Engineering (<b>FinTech</b>) program.</td>\n                     </tr></table>"
     },
     "metadata": {},
     "execution_count": 40
    }
   ],
   "source": [
    "from IPython.display import HTML\n",
    "\n",
    "rows = \"\\n\".join([\"\"\"<tr>\n",
    "                       <td><a href=\\\"{0}\\\">{1}</a></td>\n",
    "                       <td>{2}</td>\n",
    "                     </tr>\"\"\".format(v[\"url\"], v[\"name\"], v[\"snippet\"])\n",
    "                  for v in search_results[\"webPages\"][\"value\"]])\n",
    "HTML(\"<table>{0}</table>\".format(rows))"
   ]
  },
  {
   "cell_type": "code",
   "execution_count": 41,
   "metadata": {
    "tags": []
   },
   "outputs": [
    {
     "output_type": "stream",
     "name": "stdout",
     "text": [
      "https://fintech.meng.duke.edu/faculty\n",
      "Peter Balnaves\n",
      "Steven DelGrosso\n",
      "Louis Egger\n",
      "Ken Gall\n",
      "Jeffrey Glass\n",
      "Jonathan Knudsen\n",
      "Jimmie Lenz\n",
      "Genevieve Lipp\n",
      "Edward M Marshall\n",
      "Emma Rasiel\n",
      "Lee\n",
      "Lecturing Fellow\n",
      "Theodore Ryan\n",
      "Richard Dean Telford\n",
      "Robert Twiss\n",
      "Jacob Vestal\n",
      "William F Walker\n"
     ]
    }
   ],
   "source": [
    "import urllib.request, urllib.error, urllib.parse\n",
    "from requests import get\n",
    "from bs4 import BeautifulSoup\n",
    "import pandas as pd\n",
    "import spacy\n",
    "from spacy import displacy\n",
    "import en_core_web_lg\n",
    "nlp = spacy.load('en_core_web_lg')\n",
    "counter =0\n",
    "for searchresult in search_results[\"webPages\"][\"value\"]:\n",
    "    url = searchresult[\"url\"]\n",
    "    print(url)\n",
    "    try:   \n",
    "        response = get(url).content\n",
    "        soup = BeautifulSoup(response)\n",
    "        for script in soup([\"script\", \"style\"]):\n",
    "            script.extract()\n",
    "        counter = counter+1\n",
    "        f= open(str(counter)+\".txt\",\"w\",encoding='utf-8')\n",
    "        #print(counter)\n",
    "        cleanedtext = soup.text.strip('\\t\\r\\n')\n",
    "        f.write(cleanedtext)\n",
    "        f.close()\n",
    "        doc = nlp(cleanedtext)\n",
    "        for ent in doc.ents:\n",
    "            if(ent.label_ == 'PERSON'):\n",
    "                print(ent.text)\n",
    "    except:\n",
    "        print(\"ERROR HAPPENED\")\n",
    "        # doc = nlp(soup.text.strip('\\t\\r\\n'))\n",
    "        # for ent in doc.ents:\n",
    "        #     if(ent.label_ == 'PERSON'):\n",
    "        #         print(ent.text)\n",
    "    # except error:\n",
    "    #     print(error)\n",
    "\n"
   ]
  },
  {
   "cell_type": "code",
   "execution_count": 43,
   "metadata": {},
   "outputs": [
    {
     "output_type": "stream",
     "name": "stdout",
     "text": [
      "b'\"\"Katharine Marie Amato,Peter Balnaves,Steven DelGrosso,Louis Egger,Ken Gall\\nAssociate Dean,Jeffrey Glass,Jonathan Knudsen,Genevieve Lipp,Edward M Marshall,Emma Rasiel,Lee A Reiners,Theodore Ryan\\nAdjunct,Richard Dean,Richard Dean Telford,Robert Twiss,William F. Walker,'\n"
     ]
    }
   ],
   "source": [
    "import requests\n",
    "poststring =\"some text\"\n",
    "f= open(\"1.txt\",\"r\",encoding='utf-8')\n",
    "poststring = f.read(-1)\n",
    "#print(poststring)\n",
    "f.close()\n",
    "url= \"https://prod-55.eastus.logic.azure.com:443/workflows/2e702749e3ce4851bb8ea4a6bdd95119/triggers/manual/paths/invoke?api-version=2016-10-01&sp=%2Ftriggers%2Fmanual%2Frun&sv=1.0&sig=Og-HMX5Tv9pAO2XX-Qk_uXluvdVluNauvc-YecdZtiY\"\n",
    "r =requests.post(url, data=poststring.encode('utf-8'), headers = {\"documentid\":\"11111\"})\n",
    "print(r.content)"
   ]
  },
  {
   "cell_type": "code",
   "execution_count": null,
   "metadata": {},
   "outputs": [],
   "source": []
  }
 ]
}