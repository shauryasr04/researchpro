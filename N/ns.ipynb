{
 "metadata": {
  "language_info": {
   "codemirror_mode": {
    "name": "ipython",
    "version": 3
   },
   "file_extension": ".py",
   "mimetype": "text/x-python",
   "name": "python",
   "nbconvert_exporter": "python",
   "pygments_lexer": "ipython3",
   "version": "3.7.6-final"
  },
  "orig_nbformat": 2,
  "kernelspec": {
   "name": "python3",
   "display_name": "Python 3",
   "language": "python"
  }
 },
 "nbformat": 4,
 "nbformat_minor": 2,
 "cells": [
  {
   "cell_type": "code",
   "execution_count": null,
   "metadata": {},
   "outputs": [],
   "source": [
    "subscription_key = \"5b1d8775f8fd485e9fd2bea8c1d21d16\"\n",
    "assert subscription_key\n",
    "search_url = \"https://api.bing.microsoft.com/v7.0/search\"\n",
    "search_term = \"fintech faculty site:duke.edu\""
   ]
  },
  {
   "cell_type": "code",
   "execution_count": null,
   "metadata": {},
   "outputs": [],
   "source": [
    "import requests\n",
    "\n",
    "headers = {\"Ocp-Apim-Subscription-Key\": subscription_key}\n",
    "params = {\"q\": search_term, \"textDecorations\": True, \"textFormat\": \"HTML\",\"count\": 1}\n",
    "response = requests.get(search_url, headers=headers, params=params)\n",
    "response.raise_for_status()\n",
    "search_results = response.json()"
   ]
  },
  {
   "cell_type": "code",
   "execution_count": null,
   "metadata": {},
   "outputs": [],
   "source": [
    "from IPython.display import HTML\n",
    "\n",
    "rows = \"\\n\".join([\"\"\"<tr>\n",
    "                       <td><a href=\\\"{0}\\\">{1}</a></td>\n",
    "                       <td>{2}</td>\n",
    "                     </tr>\"\"\".format(v[\"url\"], v[\"name\"], v[\"snippet\"])\n",
    "                  for v in search_results[\"webPages\"][\"value\"]])\n",
    "HTML(\"<table>{0}</table>\".format(rows))"
   ]
  },
  {
   "cell_type": "code",
   "execution_count": null,
   "metadata": {
    "tags": []
   },
   "outputs": [],
   "source": [
    "import urllib.request, urllib.error, urllib.parse\n",
    "from requests import get\n",
    "from bs4 import BeautifulSoup\n",
    "import pandas as pd\n",
    "import spacy\n",
    "from spacy import displacy\n",
    "import en_core_web_lg\n",
    "nlp = spacy.load('en_core_web_lg')\n",
    "counter =0\n",
    "for searchresult in search_results[\"webPages\"][\"value\"]:\n",
    "    url = searchresult[\"url\"]\n",
    "    print(url)\n",
    "    try:   \n",
    "        response = get(url).content\n",
    "        soup = BeautifulSoup(response)\n",
    "        for script in soup([\"script\", \"style\"]):\n",
    "            script.extract()\n",
    "        counter = counter+1\n",
    "        f= open(str(counter)+\".txt\",\"w\",encoding='utf-8')\n",
    "        #print(counter)\n",
    "        cleanedtext = soup.text.strip('\\t\\r\\n')\n",
    "        f.write(cleanedtext)\n",
    "        f.close()\n",
    "        doc = nlp(cleanedtext)\n",
    "        for ent in doc.ents:\n",
    "            if(ent.label_ == 'PERSON'):\n",
    "                print(ent.text)\n",
    "    except:\n",
    "        print(\"ERROR HAPPENED\")\n",
    "        # doc = nlp(soup.text.strip('\\t\\r\\n'))\n",
    "        # for ent in doc.ents:\n",
    "        #     if(ent.label_ == 'PERSON'):\n",
    "        #         print(ent.text)\n",
    "    # except error:\n",
    "    #     print(error)\n",
    "\n"
   ]
  },
  {
   "cell_type": "code",
   "execution_count": null,
   "metadata": {},
   "outputs": [],
   "source": [
    "import requests\n",
    "poststring =\"some text\"\n",
    "f= open(\"1.txt\",\"r\",encoding='utf-8')\n",
    "poststring = f.read(-1)\n",
    "#print(poststring)\n",
    "f.close()\n",
    "url= \"https://prod-55.eastus.logic.azure.com:443/workflows/2e702749e3ce4851bb8ea4a6bdd95119/triggers/manual/paths/invoke?api-version=2016-10-01&sp=%2Ftriggers%2Fmanual%2Frun&sv=1.0&sig=Og-HMX5Tv9pAO2XX-Qk_uXluvdVluNauvc-YecdZtiY\"\n",
    "r =requests.post(url, data=poststring.encode('utf-8'), headers = {\"documentid\":\"11111\"})\n",
    "print(r.content)\n",
    "listofNames = str(r.content).split(',')\n",
    "print(listofNames[0])\n"
   ]
  },
  {
   "cell_type": "code",
   "execution_count": 69,
   "metadata": {
    "tags": [
     "outputPrepend"
    ]
   },
   "outputs": [
    {
     "output_type": "stream",
     "name": "stdout",
     "text": [
      ":</b> peter.balnaves@duke.edu</li>\\n\\t\\t\\t\\n\\t\\t\\t\\t\\t</ul>\\n\\t\\t\\t\\t\\t\\n\\t<!--Education-->\\n\\t\\t\\t<h2>Education</h2>\\n\\t\\t<p><ul><li>D.B.A. IE University (Spain), 2017</li>\\n</ul></p>\\n\\t    \\n\\t<!--CV-->\\n\\t\\n\\t<!--Research Interests-->\\n\\t\\n\\t<!--Honors-->\\n\\t\\n\\t<!--Patents-->\\n\\t\\n\\t<!--Courses Taught-->\\n\\t\\t\\t<h2>Courses Taught</h2>\\n\\t\\t<ul><li>EGRMGMT  590: Advanced Topics in Engineering Management</li>\\n<li>FINTECH  590: Advanced Topics in Financial Technology</li>\\n</ul>\\t    \\n\\t<!--News-->\\n\\t\\n\\t<!--Representative Publications-->\\n\\t\\n\\t<!--Lectures-->\\n\\t\\n\\t<!--Activities-->\\n\\t\\t\\t\\n\\t<!--Other-->\\n\\t\\n\\t\\n\\n  \\t\\n\\n</section>\\n\\t\\t\\t\\n\\t\\t\\t\\t<!--Feed Icons-->\\n\\t\\t\\t\\t\\t\\t\\t</div>\\n\\t\\t</div>\\n\\n\\t\\t<!--SIDEBAR-->\\n\\t\\t\\t\\t\\t  <aside class=\"region region-sidebar-first column sidebar\">\\n    <div id=\"block-block-29\" class=\"block block-block first last odd\">\\n\\n      \\n  <a href=\"https://applygp.duke.edu/register/fintech\" style=\"display:block;padding:1.5em;text-decoration:none;background: url(\\'https://pratt.duke.edu/sites/pratt.duke.edu/files/images/075215_aerials199-blue-768.jpg\\'); background-size:cover;text-align:center;\"><span class=\"fa fa-envelope\" style=\"color:white;font-size:2em;display:inline-block;border-radius:50%;padding:0.5em;border:0.125em solid white;\">&#8203;</span><h2 style=\"color: #ffffff;\">Join our mailing list!</h2><p style=\"color: #ffffff;\">Sign up to receive more information about Duke Engineering graduate programs and recruitment events \\xc2\\xbb</p></a>\\n\\n</div>\\n  </aside>\\n\\t\\t\\t\\t\\n\\t</div>\\n\\t<!--/MAIN-->\\n\\t\\n\\t<!--BANDS REGION-->\\n\\t    <!--/BANDS-->\\n\\n\\t<!--FOOTER-->\\n\\t<footer id=\"footer\">\\n    \\t<section class=\"layout\">\\n    \\t\\t<div class=\"column\" id=\"social-icons\">\\n    \\t\\t\\t<ul>\\n\\t\\t\\t\\t\\t\\t\\n\\t\\t\\t\\t\\t\\t    \\t\\t\\t\\n    \\t\\t\\t\\t    \\t\\t\\t\\t<!--Facebook-->\\n    \\t\\t\\t\\t<li><a href=\"https://www.facebook.com/DukeMEng\"><img src=\"/sites/fintech.meng.duke.edu/themes/engrdept/images/social-icon-facebook.svg\" alt=\"Facebook\" height=\"50px\" width=\"50px\" /></a>\\n    \\t\\t\\t\\t</li>\\n    \\t\\t\\t\\t    \\t\\t\\t\\t\\n    \\t\\t\\t\\t    \\t\\t\\t\\t<!--Twitter-->\\n    \\t\\t\\t\\t<li><a href=\"https://twitter.com/DukeEngineering\"><img src=\"/sites/fintech.meng.duke.edu/themes/engrdept/images/social-icon-twitter.svg\" alt=\"Twitter\" height=\"50px\" width=\"50px\" /></a>\\n    \\t\\t\\t\\t</li>\\n    \\t\\t\\t\\t    \\t\\t\\t\\t\\n    \\t\\t\\t\\t    \\t\\t\\t\\t<!--YouTube-->\\n    \\t\\t\\t\\t<li><a href=\"https://www.youtube.com/user/DukeMEngProgram\"><img src=\"/sites/fintech.meng.duke.edu/themes/engrdept/images/social-icon-youtube.svg\" alt=\"YouTube\" height=\"50px\" width=\"50px\" /></a>\\n    \\t\\t\\t\\t</li>\\n    \\t\\t\\t\\t    \\t\\t\\t\\t\\n    \\t\\t\\t\\t    \\t\\t\\t\\t<!--Instagram-->\\n    \\t\\t\\t\\t<li><a href=\"https://www.instagram.com/dukemeng/\"><img src=\"/sites/fintech.meng.duke.edu/themes/engrdept/images/social-icon-instagram.svg\" alt=\"Instagram\" height=\"50px\" width=\"50px\" /></a>\\n    \\t\\t\\t\\t</li>\\n    \\t\\t\\t\\t    \\t\\t\\t\\t\\n    \\t\\t\\t\\t    \\t\\t\\t\\t<!--LinkedIn-->\\n    \\t\\t\\t\\t<li><a href=\"https://www.linkedin.com/school/duke-engineering/\"><img src=\"/sites/fintech.meng.duke.edu/themes/engrdept/images/social-icon-linkedin.svg\" alt=\"LinkedIn\" height=\"50px\" width=\"50px\" /></a>\\n    \\t\\t\\t\\t</li>\\n    \\t\\t\\t\\t    \\t\\t\\t</ul>\\n\\t\\t  \\t</div>\\n\\t\\t  \\n\\t\\t  \\t<div class=\"column\" id=\"copyright\">\\n\\t\\t    \\t<p><small>&copy; Copyright 2011-2020 Duke University</small></p>\\n\\t\\t  \\t</div>\\n\\n\\t\\t\\t<div class=\"column\" id=\"pratt-logo\">\\n\\t\\t\\t\\t<a href=\"https://pratt.duke.edu\"><img src=\"/sites/fintech.meng.duke.edu/themes/engrdept/images/Duke-Pratt-Logo-RGB-Horizontal-Navy.svg\" height=\"352px\" width=\"48px\" alt=\"Duke Pratt School of Engineering logo\"/></a>\\n\\t\\t\\t</div>\\n\\t \\t\\n\\t \\t</section>\\n  \\t</footer> \\n  \\t<!--/FOOTER-->\\n\\n</div> \\n\\t<!--SCRIPTS REGION-->\\n\\t    <!--/SCRIPTS-->  \\t  <div class=\"region region-page-bottom\">\\n    \\n<nav id=\"mmenu_left\" class=\"mmenu-nav clearfix\">\\n  <ul>\\n                            <li class=\"mmenu-expanded\">\\n            <span class=\"mmenu-block-expanded mmenu-block\"><i class=\"mmenu-block-icon mmenu-block-icon-system-main-menu\"></i><span class=\"mmenu-block-title\">Main Menu</span></span>\\n          </li>\\n                          <ul class=\"mmenu-mm-list-level-1\"><li class=\"mmenu-mm-list-mlid-2651 mmenu-mm-list-path-node-19\"><a href=\"/why-duke\" class=\"mmenu-mm-list \"><i class=\"icon-list2\"></i><span class=\"mmenu-block-title\">Why Duke?</span></a><ul class=\"mmenu-mm-list-level-2\"><li class=\"mmenu-mm-list-mlid-755 mmenu-mm-list-path-node-19 section-parent\"><a href=\"/why-duke\" class=\"mmenu-mm-list \"><i class=\"icon-list2\"></i><span class=\"mmenu-block-title\">The Duke Difference</span></a></li><li class=\"mmenu-mm-list-mlid-2649 mmenu-mm-list-path-node-621\"><a href=\"/why-duke/career-services\" class=\"mmenu-mm-list \"><i class=\"icon-list2\"></i><span class=\"mmenu-block-title\">Career Services</span></a></li><li class=\"mmenu-mm-list-mlid-2650 mmenu-mm-list-path-node-622\"><a href=\"/why-duke/graduate-outcomes\" class=\"mmenu-mm-list \"><i class=\"icon-list2\"></i><span class=\"mmenu-block-title\">Graduate Outcomes</span></a></li><li class=\"mmenu-mm-list-mlid-2648 mmenu-mm-list-path-node-620\"><a href=\"/why-duke/tech-leaders\" class=\"mmenu-mm-list \"><i class=\"icon-list2\"></i><span class=\"mmenu-block-title\">What Tech Leaders Are Saying</span></a></li></ul></li><li class=\"mmenu-mm-list-mlid-2622 mmenu-mm-list-path-node-533\"><a href=\"/degree\" class=\"mmenu-mm-list \"><i class=\"icon-list2\"></i><span class=\"mmenu-block-title\">Degree</span></a></li><li class=\"mmenu-mm-list-mlid-757 mmenu-mm-list-path-node-21\"><a href=\"/courses\" class=\"mmenu-mm-list \"><i class=\"icon-list2\"></i><span class=\"mmenu-block-title\">Courses</span></a></li><li class=\"mmenu-mm-list-mlid-2641 mmenu-mm-list-path-node-614\"><a href=\"/faculty\" class=\"mmenu-mm-list \"><i class=\"icon-list2\"></i><span class=\"mmenu-block-title\">Faculty</span></a></li><li class=\"mmenu-mm-list-mlid-2652 mmenu-mm-list-path-node-60\"><a href=\"/apply\" class=\"mmenu-mm-list \"><i class=\"icon-list2\"></i><span class=\"mmenu-block-title\">Apply</span></a></li></ul>                                          <li class=\"mmenu-expanded\">\\n            <span class=\"mmenu-block-expanded mmenu-block\"><i class=\"mmenu-block-icon mmenu-block-icon-menu-menu-menu-secondary-menu\"></i><span class=\"mmenu-block-title\">Quick Links</span></span>\\n          </li>\\n                          <ul class=\"mmenu-mm-list-level-1\"><li class=\"mmenu-mm-list-mlid-2640 mmenu-mm-list-path-news\"><a href=\"/news\" class=\"mmenu-mm-list \"><i class=\"icon-list2\"></i><span class=\"mmenu-block-title\">News</span></a></li><li class=\"mmenu-mm-list-mlid-2642 mmenu-mm-list-path-node-615\"><a href=\"/leadership\" class=\"mmenu-mm-list \"><i class=\"icon-list2\"></i><span class=\"mmenu-block-title\">Steering Committee</span></a></li><li class=\"mmenu-mm-list-mlid-2636 mmenu-mm-list-path-node-611\"><a href=\"/contact\" class=\"mmenu-mm-list \"><i class=\"icon-list2\"></i><span class=\"mmenu-block-title\">Contact</span></a></li></ul>                    </ul>\\n</nav>\\n\\n<nav id=\"mmenu_top\" class=\"mmenu-nav clearfix\">\\n  <ul>\\n                                    <ul><li class=\"mmenu-block-wrap\"><span><div id=\"block-block-11\" class=\"block block-block first odd\">\\n\\n      \\n  <div class=\"site-search\"><gcse:searchbox-only resultsUrl=\"/search\"></gcse:searchbox-only></div>\\n</div>\\n</span></li></ul>\\n                    </ul>\\n</nav>\\n  </div>\\n\\n<!--[if lte IE 9]>\\n<script src=\"/sites/fintech.meng.duke.edu/files/advagg_js/js__I5GBnzwOObXPnXMRxq0LvsDVh56qiFy4Ux93zc3Pl-o__rX2OqhdcNRCtcTL0lSIwj6n77IoeqBFLo5nmVDAj86o__kX7mgE6E8-xudZWi6kGkKTw-LnQz9iGsXhb2RR-cpJk.js#ie9-\" onload=\"if(jQuery.isFunction(jQuery.holdReady)){jQuery.holdReady(true);}\"></script>\\n<![endif]-->\\n\\n<!--[if gt IE 9]>\\n<script src=\"/sites/fintech.meng.duke.edu/files/advagg_js/js__I5GBnzwOObXPnXMRxq0LvsDVh56qiFy4Ux93zc3Pl-o__rX2OqhdcNRCtcTL0lSIwj6n77IoeqBFLo5nmVDAj86o__kX7mgE6E8-xudZWi6kGkKTw-LnQz9iGsXhb2RR-cpJk.js#ie10+\" defer=\"defer\" onload=\"if(jQuery.isFunction(jQuery.holdReady)){jQuery.holdReady(true);}\"></script>\\n<![endif]-->\\n\\n<!--[if !IE]><!-->\\n<script src=\"/sites/fintech.meng.duke.edu/files/advagg_js/js__I5GBnzwOObXPnXMRxq0LvsDVh56qiFy4Ux93zc3Pl-o__rX2OqhdcNRCtcTL0lSIwj6n77IoeqBFLo5nmVDAj86o__kX7mgE6E8-xudZWi6kGkKTw-LnQz9iGsXhb2RR-cpJk.js\" defer=\"defer\" onload=\"if(jQuery.isFunction(jQuery.holdReady)){jQuery.holdReady(true);}\"></script>\\n<!--<![endif]-->\\n<script src=\"/sites/fintech.meng.duke.edu/files/advagg_js/js__bWSMNEe6EJz8jDEoX5wDMjm0C1K41yItAX3ZpTtWsSE__MkZfDkcm_dhK16AIiwQCFK9QHG45QAHhSQ6tr-3eQxI__kX7mgE6E8-xudZWi6kGkKTw-LnQz9iGsXhb2RR-cpJk.js\" defer=\"defer\" onload=\"function advagg_mod_1(){advagg_mod_1.count=++advagg_mod_1.count||1;try{if(advagg_mod_1.count<=40){init_drupal_core_settings();advagg_mod_1.count=100}}catch(e){if(advagg_mod_1.count>=40){throw e}else window.setTimeout(advagg_mod_1,1)}}\\nfunction advagg_mod_1_check(){if(window.init_drupal_core_settings&&window.jQuery&&window.Drupal){advagg_mod_1()}else window.setTimeout(advagg_mod_1_check,1)};advagg_mod_1_check();\"></script>\\n<script src=\"/sites/fintech.meng.duke.edu/files/advagg_js/js__bioOAIAtGKh54p1E5luQ96V2m6brdUxkvHA9TeksM00__-yL4w-uk1lsm_CWA4JSL2feEJV_k8UmdHZMtwSoloiw__kX7mgE6E8-xudZWi6kGkKTw-LnQz9iGsXhb2RR-cpJk.js\" defer=\"defer\"></script>\\n<script src=\"/sites/fintech.meng.duke.edu/files/advagg_js/js__-kJYvF7EbsmU59AyLEQbQ8-cJmNAcrltarAZ6Ccan70__QFZPh8fxAkO58scwR7SrnEFZoMD-J35alJirwqpItbE__kX7mgE6E8-xudZWi6kGkKTw-LnQz9iGsXhb2RR-cpJk.js\" defer=\"defer\"></script>\\n<script>function advagg_mod_2(){advagg_mod_2.count=++advagg_mod_2.count||1;try{if(advagg_mod_2.count<=40){jQuery.migrateMute=true;jQuery.migrateTrace=false;advagg_mod_2.count=100}}catch(e){if(advagg_mod_2.count>=40){throw e}else window.setTimeout(advagg_mod_2,250)}}\\nfunction advagg_mod_2_check(){if(window.jQuery&&window.Drupal&&window.Drupal.settings){advagg_mod_2()}else window.setTimeout(advagg_mod_2_check,250)};advagg_mod_2_check();</script>\\n<script>function init_drupal_core_settings() {jQuery.extend(Drupal.settings, {\"basePath\":\"\\\\/\",\"pathPrefix\":\"\",\"ajaxPageState\":{\"theme\":\"engrdept\",\"theme_token\":\"h6oQgy16kQJ4CTFUObf7rEugoIcHENEHVEyguJ8xZfs\"},\"jcaption\":{\"jcaption_selectors\":[\".content .content img\",\"img.caption\",\"img.standalone-image\",\"img.image-left\",\"img.image-right\"],\"jcaption_alt_title\":\"title\",\"jcaption_requireText\":1,\"jcaption_copyStyle\":1,\"jcaption_removeStyle\":1,\"jcaption_removeClass\":1,\"jcaption_removeAlign\":1,\"jcaption_copyAlignmentToClass\":0,\"jcaption_copyFloatToClass\":1,\"jcaption_copyClassToClass\":1,\"jcaption_autoWidth\":1,\"jcaption_keepLink\":0,\"jcaption_styleMarkup\":\"\",\"jcaption_animate\":0,\"jcaption_showDuration\":\"200\",\"jcaption_hideDuration\":\"200\"},\"mmenu\":{\"mmenu_left\":{\"enabled\":\"1\",\"title\":\"Left menu\",\"name\":\"mmenu_left\",\"blocks\":[{\"module_delta\":\"system|main-menu\",\"menu_parameters\":{\"min_depth\":\"1\"},\"title\":\"Main Menu\",\"collapsed\":\"0\",\"wrap\":\"0\",\"module\":\"system\",\"delta\":\"main-menu\"},{\"module_delta\":\"menu|menu-menu-secondary-menu\",\"menu_parameters\":{\"min_depth\":\"1\"},\"title\":\"Quick Links\",\"collapsed\":\"0\",\"wrap\":\"0\",\"module\":\"menu\",\"delta\":\"menu-menu-secondary-menu\"}],\"options\":{\"classes\":\"mm-basic\",\"effects\":[],\"slidingSubmenus\":false,\"clickOpen\":{\"open\":false,\"selector\":\"\"},\"counters\":{\"add\":false,\"update\":false},\"dragOpen\":{\"open\":true,\"pageNode\":\"body\",\"threshold\":50,\"maxStartPos\":50},\"footer\":{\"add\":false,\"content\":\"\",\"title\":\"Copyright \\\\u00a92015\",\"update\":false},\"header\":{\"add\":false,\"content\":\"\",\"title\":\"templated7.pratt.duke.edu\",\"update\":true},\"labels\":{\"collapse\":false},\"offCanvas\":{\"enabled\":true,\"modal\":false,\"moveBackground\":true,\"position\":\"left\",\"zposition\":\"front\"},\"searchfield\":{\"add\":false,\"addTo\":\"menu\",\"search\":false,\"placeholder\":\"Search\",\"noResults\":\"No results found.\",\"showLinksOnly\":false}},\"configurations\":{\"clone\":false,\"preventTabbing\":false,\"panelNodetype\":\"div, ul, ol\",\"transitionDuration\":200,\"classNames\":{\"label\":\"Label\",\"panel\":\"Panel\",\"selected\":\"Selected\",\"buttonbars\":{\"buttonbar\":\"anchors\"},\"counters\":{\"counter\":\"Counter\"},\"fixedElements\":{\"fixedTop\":\"FixedTop\",\"fixedBottom\":\"FixedBottom\"},\"footer\":{\"panelFooter\":\"Footer\"},\"header\":{\"panelHeader\":\"Header\",\"panelNext\":\"Next\",\"panelPrev\":\"Prev\"},\"labels\":{\"collapsed\":\"Collapsed\"},\"toggles\":{\"toggle\":\"Toggle\",\"check\":\"Check\"}},\"dragOpen\":{\"width\":{\"perc\":0.8,\"min\":140,\"max\":440},\"height\":{\"perc\":0.8,\"min\":140,\"max\":880}},\"offCanvas\":{\"menuInjectMethod\":\"prepend\",\"menuWrapperSelector\":\"body\",\"pageNodetype\":\"div\",\"pageSelector\":\"body \\\\u003E div\"}},\"custom\":[],\"position\":\"left\"},\"mmenu_top\":{\"enabled\":\"1\",\"title\":\"Top menu\",\"name\":\"mmenu_top\",\"blocks\":[{\"module_delta\":\"block|11\",\"menu_parameters\":{\"min_depth\":\"1\"},\"title\":\"\\\\u003Cnone\\\\u003E\",\"collapsed\":\"0\",\"wrap\":\"1\",\"module\":\"block\",\"delta\":\"11\"}],\"options\":{\"classes\":\"mm-basic\",\"effects\":[],\"slidingSubmenus\":false,\"clickOpen\":{\"open\":true,\"selector\":\".mmenu-search\"},\"counters\":{\"add\":false,\"update\":false},\"dragOpen\":{\"open\":true,\"pageNode\":\"body\",\"threshold\":100,\"maxStartPos\":50},\"footer\":{\"add\":false,\"content\":\"\",\"title\":\"Copyright \\\\u00a92015\",\"update\":false},\"header\":{\"add\":false,\"content\":\"\",\"title\":\"D7 Template\",\"update\":false},\"labels\":{\"collapse\":false},\"offCanvas\":{\"enabled\":true,\"modal\":false,\"moveBackground\":false,\"position\":\"top\",\"zposition\":\"front\"},\"searchfield\":{\"add\":false,\"addTo\":\"menu\",\"search\":false,\"placeholder\":\"Search\",\"noResults\":\"No results found.\",\"showLinksOnly\":false}},\"configurations\":{\"clone\":false,\"preventTabbing\":false,\"panelNodetype\":\"div, ul, ol\",\"transitionDuration\":400,\"classNames\":{\"label\":\"Label\",\"panel\":\"Panel\",\"selected\":\"Selected\",\"buttonbars\":{\"buttonbar\":\"anchors\"},\"counters\":{\"counter\":\"Counter\"},\"fixedElements\":{\"fixedTop\":\"FixedTop\",\"fixedBottom\":\"FixedBottom\"},\"footer\":{\"panelFooter\":\"Footer\"},\"header\":{\"panelHeader\":\"Header\",\"panelNext\":\"Next\",\"panelPrev\":\"Prev\"},\"labels\":{\"collapsed\":\"Collapsed\"},\"toggles\":{\"toggle\":\"Toggle\",\"check\":\"Check\"}},\"dragOpen\":{\"width\":{\"perc\":0.8,\"min\":140,\"max\":440},\"height\":{\"perc\":0.3,\"min\":140,\"max\":880}},\"offCanvas\":{\"menuInjectMethod\":\"prepend\",\"menuWrapperSelector\":\"body\",\"pageNodetype\":\"div\",\"pageSelector\":\"body \\\\u003E div\"}},\"custom\":[],\"position\":\"top\"}},\"eu_cookie_compliance\":{\"popup_enabled\":1,\"popup_agreed_enabled\":0,\"popup_hide_agreed\":0,\"popup_clicking_confirmation\":1,\"popup_scrolling_confirmation\":0,\"popup_html_info\":\"\\\\u003Cdiv class=\\\\u0022eu-cookie-compliance-banner eu-cookie-compliance-banner-info eu-cookie-compliance-banner--default\\\\u0022\\\\u003E\\\\n  \\\\u003Cdiv class=\\\\u0022popup-content info\\\\u0022\\\\u003E\\\\n    \\\\u003Cdiv id=\\\\u0022popup-text\\\\u0022\\\\u003E\\\\n      \\\\u003Cp\\\\u003EThis website uses cookies as well as similar tools and technologies to understand visitors\\\\u0027 experiences. By continuing to use this website, you consent to Duke University\\\\u0027s usage of cookies and similar technologies, in accordance with the \\\\u003Ca href=\\\\u0022https:\\\\/\\\\/oarc.duke.edu\\\\/privacy\\\\/duke-university-privacy-statement\\\\u0022 target=\\\\u0022_blank\\\\u0022 class=\\\\u0022cc-link\\\\u0022 rel=\\\\u0022noopener noreferrer nofollow\\\\u0022\\\\u003EDuke Privacy Statement.\\\\u003C\\\\/a\\\\u003E\\\\u003C\\\\/p\\\\u003E\\\\n          \\\\u003C\\\\/div\\\\u003E\\\\n    \\\\n    \\\\u003Cdiv id=\\\\u0022popup-buttons\\\\u0022 class=\\\\u0022\\\\u0022\\\\u003E\\\\n      \\\\u003Cbutton type=\\\\u0022button\\\\u0022 class=\\\\u0022agree-button eu-cookie-compliance-default-button\\\\u0022\\\\u003EI accept\\\\u003C\\\\/button\\\\u003E\\\\n          \\\\u003C\\\\/div\\\\u003E\\\\n  \\\\u003C\\\\/div\\\\u003E\\\\n\\\\u003C\\\\/div\\\\u003E\",\"use_mobile_message\":false,\"mobile_popup_html_info\":\"\\\\u003Cdiv class=\\\\u0022eu-cookie-compliance-banner eu-cookie-compliance-banner-info eu-cookie-compliance-banner--default\\\\u0022\\\\u003E\\\\n  \\\\u003Cdiv class=\\\\u0022popup-content info\\\\u0022\\\\u003E\\\\n    \\\\u003Cdiv id=\\\\u0022popup-text\\\\u0022\\\\u003E\\\\n      \\\\u003Ch2\\\\u003EWe use cookies on this site to enhance your user experience\\\\u003C\\\\/h2\\\\u003E\\\\n\\\\u003Cp\\\\u003EBy tapping the Accept button, you agree to us doing so.\\\\u003C\\\\/p\\\\u003E\\\\n          \\\\u003C\\\\/div\\\\u003E\\\\n    \\\\n    \\\\u003Cdiv id=\\\\u0022popup-buttons\\\\u0022 class=\\\\u0022\\\\u0022\\\\u003E\\\\n      \\\\u003Cbutton type=\\\\u0022button\\\\u0022 class=\\\\u0022agree-button eu-cookie-compliance-default-button\\\\u0022\\\\u003EI accept\\\\u003C\\\\/button\\\\u003E\\\\n          \\\\u003C\\\\/div\\\\u003E\\\\n  \\\\u003C\\\\/div\\\\u003E\\\\n\\\\u003C\\\\/div\\\\u003E\\\\n\",\"mobile_breakpoint\":\"768\",\"popup_html_agreed\":\"\\\\u003Cdiv\\\\u003E\\\\n  \\\\u003Cdiv class=\\\\u0022popup-content agreed\\\\u0022\\\\u003E\\\\n    \\\\u003Cdiv id=\\\\u0022popup-text\\\\u0022\\\\u003E\\\\n      \\\\u003Ch2\\\\u003EThank you for accepting cookies\\\\u003C\\\\/h2\\\\u003E\\\\n\\\\u003Cp\\\\u003EYou can now hide this message or find out more about cookies.\\\\u003C\\\\/p\\\\u003E\\\\n    \\\\u003C\\\\/div\\\\u003E\\\\n    \\\\u003Cdiv id=\\\\u0022popup-buttons\\\\u0022\\\\u003E\\\\n      \\\\u003Cbutton type=\\\\u0022button\\\\u0022 class=\\\\u0022hide-popup-button eu-cookie-compliance-hide-button\\\\u0022\\\\u003EHide\\\\u003C\\\\/button\\\\u003E\\\\n          \\\\u003C\\\\/div\\\\u003E\\\\n  \\\\u003C\\\\/div\\\\u003E\\\\n\\\\u003C\\\\/div\\\\u003E\",\"popup_use_bare_css\":1,\"popup_height\":\"auto\",\"popup_width\":0,\"popup_delay\":1000,\"popup_link\":\"https:\\\\/\\\\/oarc.duke.edu\\\\/privacy\\\\/duke-university-privacy-statement\",\"popup_link_new_window\":1,\"popup_position\":null,\"fixed_top_position\":1,\"popup_language\":\"en\",\"store_consent\":false,\"better_support_for_screen_readers\":0,\"reload_page\":0,\"domain\":\"\",\"domain_all_sites\":0,\"popup_eu_only_js\":0,\"cookie_lifetime\":\"365\",\"cookie_session\":false,\"disagree_do_not_show_popup\":0,\"method\":\"default\",\"whitelisted_cookies\":\"\",\"withdraw_markup\":\"\\\\u003Cbutton type=\\\\u0022button\\\\u0022 class=\\\\u0022eu-cookie-withdraw-tab\\\\u0022\\\\u003EPrivacy settings\\\\u003C\\\\/button\\\\u003E\\\\n\\\\u003Cdiv class=\\\\u0022eu-cookie-withdraw-banner\\\\u0022\\\\u003E\\\\n  \\\\u003Cdiv class=\\\\u0022popup-content info\\\\u0022\\\\u003E\\\\n    \\\\u003Cdiv id=\\\\u0022popup-text\\\\u0022\\\\u003E\\\\n      \\\\u003Ch2\\\\u003EWe use cookies on this site to enhance your user experience\\\\u003C\\\\/h2\\\\u003E\\\\n\\\\u003Cp\\\\u003EYou have given your consent for us to set cookies.\\\\u003C\\\\/p\\\\u003E\\\\n    \\\\u003C\\\\/div\\\\u003E\\\\n    \\\\u003Cdiv id=\\\\u0022popup-buttons\\\\u0022\\\\u003E\\\\n      \\\\u003Cbutton type=\\\\u0022button\\\\u0022 class=\\\\u0022eu-cookie-withdraw-button\\\\u0022\\\\u003EWithdraw consent\\\\u003C\\\\/button\\\\u003E\\\\n    \\\\u003C\\\\/div\\\\u003E\\\\n  \\\\u003C\\\\/div\\\\u003E\\\\n\\\\u003C\\\\/div\\\\u003E\\\\n\",\"withdraw_enabled\":false,\"withdraw_button_on_info_popup\":0,\"cookie_categories\":[],\"enable_save_preferences_button\":1,\"fix_first_cookie_category\":1,\"select_all_categories_by_default\":0,\"cookie_name\":\"\"},\"googleanalytics\":{\"trackOutbound\":1,\"trackMailto\":1,\"trackDownload\":1,\"trackDownloadExtensions\":\"7z|aac|arc|arj|asf|asx|avi|bin|csv|doc(x|m)?|dot(x|m)?|exe|flv|gif|gz|gzip|hqx|jar|jpe?g|js|mp(2|3|4|e?g)|mov(ie)?|msi|msp|pdf|phps|png|ppt(x|m)?|pot(x|m)?|pps(x|m)?|ppam|sld(x|m)?|thmx|qtm?|ra(m|r)?|sea|sit|tar|tgz|torrent|txt|wav|wma|wmv|wpd|xls(x|m|b)?|xlt(x|m)|xlam|xml|z|zip\"},\"urlIsAjaxTrusted\":{\"\\\\/faculty\\\\/peter-balnaves\":true},\"superfish\":{\"1\":{\"id\":\"1\",\"sf\":{\"delay\":\"600\",\"animation\":{\"opacity\":\"show\"},\"speed\":\"fast\",\"dropShadows\":false},\"plugins\":{\"supposition\":true,\"supersubs\":true}}}}); \\nif(jQuery.isFunction(jQuery.holdReady)){jQuery.holdReady(false);}} if(window.jQuery && window.Drupal){init_drupal_core_settings();}</script>\\n<script src=\"/sites/fintech.meng.duke.edu/files/advagg_js/js__WcTpt-w0y1FyXrxZNriX8Ts1KjsFTDpdvZaw9yhRn24__V9YcxQ-7T4bQIOX8KIw_F4lz0UIv2tg6moNtTwT6ZlM__kX7mgE6E8-xudZWi6kGkKTw-LnQz9iGsXhb2RR-cpJk.js\" defer=\"defer\"></script>\\n<script>function advagg_mod_3(){advagg_mod_3.count=++advagg_mod_3.count||1;try{if(advagg_mod_3.count<=40){var eu_cookie_compliance_cookie_name=\"\";advagg_mod_3.count=100}}catch(e){if(advagg_mod_3.count>=40){throw e}else window.setTimeout(advagg_mod_3,250)}}\\nfunction advagg_mod_3_check(){if(window.jQuery&&window.Drupal&&window.Drupal.settings){advagg_mod_3()}else window.setTimeout(advagg_mod_3_check,250)};advagg_mod_3_check();</script>\\n\\n\\n\\n</body>\\n</html>\\n'\n"
     ]
    }
   ],
   "source": [
    "from IPython.display import IFrame\n",
    "subscription_key = \"5b1d8775f8fd485e9fd2bea8c1d21d16\"\n",
    "search_url = \"https://api.bing.microsoft.com/v7.0/search\"\n",
    "search_site =\"site:duke.edu\"\n",
    "search_term = listofNames[1]+' '+search_site\n",
    "headers = {\"Ocp-Apim-Subscription-Key\": subscription_key}\n",
    "params = {\"q\": search_term, \"textDecorations\": True, \"textFormat\": \"HTML\",\"count\": 1}\n",
    "response = requests.get(search_url, headers=headers, params=params)\n",
    "response.raise_for_status()\n",
    "search_results = response.json()\n",
    "print(search_results)\n",
    "for searchresult in search_results[\"webPages\"][\"value\"]:\n",
    "    #htmlstring = '<a href=\\\"{0}\\\">link</a>'.format(searchresult[\"url\"])\n",
    "    #IFrame(src='www.google.com', width=700, height=600)\n",
    "    response = get(url).content\n",
    "    print(response)"
   ]
  },
  {
   "cell_type": "code",
   "execution_count": null,
   "metadata": {},
   "outputs": [],
   "source": []
  }
 ]
}