{
 "metadata": {
  "language_info": {
   "codemirror_mode": {
    "name": "ipython",
    "version": 3
   },
   "file_extension": ".py",
   "mimetype": "text/x-python",
   "name": "python",
   "nbconvert_exporter": "python",
   "pygments_lexer": "ipython3",
   "version": "3.7.6-final"
  },
  "orig_nbformat": 2,
  "kernelspec": {
   "name": "python3",
   "display_name": "Python 3",
   "language": "python"
  }
 },
 "nbformat": 4,
 "nbformat_minor": 2,
 "cells": [
  {
   "cell_type": "code",
   "execution_count": null,
   "metadata": {},
   "outputs": [],
   "source": [
    "subscription_key = \"5b1d8775f8fd485e9fd2bea8c1d21d16\"\n",
    "assert subscription_key\n",
    "search_url = \"https://api.bing.microsoft.com/v7.0/search\"\n",
    "search_string = \"fintech faculty\"\n",
    "search_site=\"site:princeton.edu\"\n",
    "search_term = search_string+' '+search_site"
   ]
  },
  {
   "cell_type": "code",
   "execution_count": null,
   "metadata": {},
   "outputs": [],
   "source": [
    "import requests\n",
    "\n",
    "headers = {\"Ocp-Apim-Subscription-Key\": subscription_key}\n",
    "params = {\"q\": search_term, \"textDecorations\": True, \"textFormat\": \"HTML\",\"count\": 1}\n",
    "response = requests.get(search_url, headers=headers, params=params)\n",
    "response.raise_for_status()\n",
    "search_results = response.json()"
   ]
  },
  {
   "cell_type": "code",
   "execution_count": null,
   "metadata": {},
   "outputs": [],
   "source": [
    "from IPython.display import HTML\n",
    "\n",
    "rows = \"\\n\".join([\"\"\"<tr>\n",
    "                       <td><a href=\\\"{0}\\\">{1}</a></td>\n",
    "                       <td>{2}</td>\n",
    "                     </tr>\"\"\".format(v[\"url\"], v[\"name\"], v[\"snippet\"])\n",
    "                  for v in search_results[\"webPages\"][\"value\"]])\n",
    "HTML(\"<table>{0}</table>\".format(rows))"
   ]
  },
  {
   "cell_type": "code",
   "execution_count": null,
   "metadata": {
    "tags": []
   },
   "outputs": [],
   "source": [
    "import urllib.request, urllib.error, urllib.parse\n",
    "from requests import get\n",
    "from bs4 import BeautifulSoup\n",
    "import pandas as pd\n",
    "import spacy\n",
    "from spacy import displacy\n",
    "import en_core_web_lg\n",
    "nlp = spacy.load('en_core_web_lg')\n",
    "counter =0\n",
    "listofNames =[]\n",
    "for searchresult in search_results[\"webPages\"][\"value\"]:\n",
    "    url = searchresult[\"url\"]\n",
    "    print(url)\n",
    "    try:   \n",
    "        response = get(url).content\n",
    "        soup = BeautifulSoup(response)\n",
    "        for script in soup([\"script\", \"style\"]):\n",
    "            script.extract()\n",
    "        counter = counter+1\n",
    "        f= open(str(counter)+\".txt\",\"w\",encoding='utf-8')\n",
    "        #print(counter)\n",
    "        cleanedtext = soup.text.strip('\\t\\r\\n')\n",
    "        f.write(cleanedtext)\n",
    "        f.close()\n",
    "        doc = nlp(cleanedtext)\n",
    "        for ent in doc.ents:\n",
    "            if(ent.label_ == 'PERSON'):\n",
    "                print(ent.text)\n",
    "                listofNames.append(ent.text)\n",
    "    except:\n",
    "        print(\"ERROR HAPPENED\")\n",
    "\n",
    "        # doc = nlp(soup.text.strip('\\t\\r\\n'))\n",
    "        # for ent in doc.ents:\n",
    "        #     if(ent.label_ == 'PERSON'):\n",
    "        #         print(ent.text)\n",
    "    # except error:\n",
    "    #     print(error)\n",
    "\n"
   ]
  },
  {
   "cell_type": "code",
   "execution_count": 15,
   "metadata": {},
   "outputs": [
    {
     "output_type": "stream",
     "name": "stdout",
     "text": [
      "StudentsWhy,A.B. AdvisingWe,Princeton EngineersProfiles,FAQYour,Mark Braverman,Sanjeev Kulkarni,John Mulvey,Jaswinder Singh,Mengdi Wang,\n"
     ]
    }
   ],
   "source": [
    "print(listofNames)"
   ]
  },
  {
   "cell_type": "code",
   "execution_count": null,
   "metadata": {},
   "outputs": [],
   "source": [
    "# import requests\n",
    "# poststring =\"some text\"\n",
    "# f= open(\"1.txt\",\"r\",encoding='utf-8')\n",
    "# poststring = f.read(-1)\n",
    "# print(poststring)\n",
    "# f.close()\n",
    "# url= \"https://prod-55.eastus.logic.azure.com:443/workflows/2e702749e3ce4851bb8ea4a6bdd95119/triggers/manual/paths/invoke?api-version=2016-10-01&sp=%2Ftriggers%2Fmanual%2Frun&sv=1.0&sig=Og-HMX5Tv9pAO2XX-Qk_uXluvdVluNauvc-YecdZtiY\"\n",
    "# r =requests.post(url, data=poststring.encode('utf-8'), headers = {\"documentid\":\"11111\"})\n",
    "# print(r.content.decode('utf-8'))\n",
    "# listofNames = r.content.decode('utf-8').split(',')\n",
    "# print(listofNames[0])\n"
   ]
  },
  {
   "cell_type": "code",
   "execution_count": 16,
   "metadata": {
    "tags": []
   },
   "outputs": [
    {
     "output_type": "stream",
     "name": "stdout",
     "text": [
      "S\n",
      "https://sgs.princeton.edu/\n",
      "t\n",
      "https://www.princeton.edu/\n",
      "u\n",
      "https://www.princeton.edu/\n",
      "d\n",
      "https://gradschool.princeton.edu/\n",
      "e\n",
      "https://www.princeton.edu/\n",
      "n\n",
      "https://www.princeton.edu/\n",
      "t\n",
      "https://www.princeton.edu/\n",
      "s\n",
      "https://sgs.princeton.edu/\n",
      "W\n",
      "https://www.princeton.edu/\n",
      "h\n",
      "https://hr.princeton.edu/\n",
      "y\n",
      "https://www.princeton.edu/\n",
      ",\n",
      "https://www.princeton.edu/\n",
      "A\n",
      "https://path.princeton.edu/princeton-degrees-explained\n",
      ".\n",
      "https://www.princeton.edu/\n",
      "B\n",
      "https://path.princeton.edu/princeton-degrees-explained\n",
      ".\n",
      "https://www.princeton.edu/\n",
      " \n",
      "https://www.princeton.edu/\n",
      "A\n",
      "https://path.princeton.edu/princeton-degrees-explained\n",
      "d\n",
      "https://gradschool.princeton.edu/\n",
      "v\n",
      "https://www.princeton.edu/\n",
      "i\n",
      "https://www.princeton.edu/\n",
      "s\n",
      "https://sgs.princeton.edu/\n",
      "i\n",
      "https://www.princeton.edu/\n",
      "n\n",
      "https://www.princeton.edu/\n",
      "g\n",
      "https://www.princeton.edu/\n"
     ]
    },
    {
     "output_type": "error",
     "ename": "KeyboardInterrupt",
     "evalue": "",
     "traceback": [
      "\u001b[1;31m---------------------------------------------------------------------------\u001b[0m",
      "\u001b[1;31mKeyboardInterrupt\u001b[0m                         Traceback (most recent call last)",
      "\u001b[1;32m<ipython-input-16-a1731d524431>\u001b[0m in \u001b[0;36m<module>\u001b[1;34m\u001b[0m\n\u001b[0;32m     17\u001b[0m         \u001b[0mprint\u001b[0m\u001b[1;33m(\u001b[0m\u001b[0mname\u001b[0m\u001b[1;33m)\u001b[0m\u001b[1;33m\u001b[0m\u001b[1;33m\u001b[0m\u001b[0m\n\u001b[0;32m     18\u001b[0m         \u001b[0mprint\u001b[0m\u001b[1;33m(\u001b[0m\u001b[0murl\u001b[0m\u001b[1;33m)\u001b[0m\u001b[1;33m\u001b[0m\u001b[1;33m\u001b[0m\u001b[0m\n\u001b[1;32m---> 19\u001b[1;33m         \u001b[0mwebbrowser\u001b[0m\u001b[1;33m.\u001b[0m\u001b[0mopen\u001b[0m\u001b[1;33m(\u001b[0m\u001b[0murl\u001b[0m\u001b[1;33m)\u001b[0m\u001b[1;33m\u001b[0m\u001b[1;33m\u001b[0m\u001b[0m\n\u001b[0m",
      "\u001b[1;32mC:\\ProgramData\\Anaconda3\\lib\\webbrowser.py\u001b[0m in \u001b[0;36mopen\u001b[1;34m(url, new, autoraise)\u001b[0m\n\u001b[0;32m     76\u001b[0m     \u001b[1;32mfor\u001b[0m \u001b[0mname\u001b[0m \u001b[1;32min\u001b[0m \u001b[0m_tryorder\u001b[0m\u001b[1;33m:\u001b[0m\u001b[1;33m\u001b[0m\u001b[1;33m\u001b[0m\u001b[0m\n\u001b[0;32m     77\u001b[0m         \u001b[0mbrowser\u001b[0m \u001b[1;33m=\u001b[0m \u001b[0mget\u001b[0m\u001b[1;33m(\u001b[0m\u001b[0mname\u001b[0m\u001b[1;33m)\u001b[0m\u001b[1;33m\u001b[0m\u001b[1;33m\u001b[0m\u001b[0m\n\u001b[1;32m---> 78\u001b[1;33m         \u001b[1;32mif\u001b[0m \u001b[0mbrowser\u001b[0m\u001b[1;33m.\u001b[0m\u001b[0mopen\u001b[0m\u001b[1;33m(\u001b[0m\u001b[0murl\u001b[0m\u001b[1;33m,\u001b[0m \u001b[0mnew\u001b[0m\u001b[1;33m,\u001b[0m \u001b[0mautoraise\u001b[0m\u001b[1;33m)\u001b[0m\u001b[1;33m:\u001b[0m\u001b[1;33m\u001b[0m\u001b[1;33m\u001b[0m\u001b[0m\n\u001b[0m\u001b[0;32m     79\u001b[0m             \u001b[1;32mreturn\u001b[0m \u001b[1;32mTrue\u001b[0m\u001b[1;33m\u001b[0m\u001b[1;33m\u001b[0m\u001b[0m\n\u001b[0;32m     80\u001b[0m     \u001b[1;32mreturn\u001b[0m \u001b[1;32mFalse\u001b[0m\u001b[1;33m\u001b[0m\u001b[1;33m\u001b[0m\u001b[0m\n",
      "\u001b[1;32mC:\\ProgramData\\Anaconda3\\lib\\webbrowser.py\u001b[0m in \u001b[0;36mopen\u001b[1;34m(self, url, new, autoraise)\u001b[0m\n\u001b[0;32m    579\u001b[0m         \u001b[1;32mdef\u001b[0m \u001b[0mopen\u001b[0m\u001b[1;33m(\u001b[0m\u001b[0mself\u001b[0m\u001b[1;33m,\u001b[0m \u001b[0murl\u001b[0m\u001b[1;33m,\u001b[0m \u001b[0mnew\u001b[0m\u001b[1;33m=\u001b[0m\u001b[1;36m0\u001b[0m\u001b[1;33m,\u001b[0m \u001b[0mautoraise\u001b[0m\u001b[1;33m=\u001b[0m\u001b[1;32mTrue\u001b[0m\u001b[1;33m)\u001b[0m\u001b[1;33m:\u001b[0m\u001b[1;33m\u001b[0m\u001b[1;33m\u001b[0m\u001b[0m\n\u001b[0;32m    580\u001b[0m             \u001b[1;32mtry\u001b[0m\u001b[1;33m:\u001b[0m\u001b[1;33m\u001b[0m\u001b[1;33m\u001b[0m\u001b[0m\n\u001b[1;32m--> 581\u001b[1;33m                 \u001b[0mos\u001b[0m\u001b[1;33m.\u001b[0m\u001b[0mstartfile\u001b[0m\u001b[1;33m(\u001b[0m\u001b[0murl\u001b[0m\u001b[1;33m)\u001b[0m\u001b[1;33m\u001b[0m\u001b[1;33m\u001b[0m\u001b[0m\n\u001b[0m\u001b[0;32m    582\u001b[0m             \u001b[1;32mexcept\u001b[0m \u001b[0mOSError\u001b[0m\u001b[1;33m:\u001b[0m\u001b[1;33m\u001b[0m\u001b[1;33m\u001b[0m\u001b[0m\n\u001b[0;32m    583\u001b[0m                 \u001b[1;31m# [Error 22] No application is associated with the specified\u001b[0m\u001b[1;33m\u001b[0m\u001b[1;33m\u001b[0m\u001b[1;33m\u001b[0m\u001b[0m\n",
      "\u001b[1;31mKeyboardInterrupt\u001b[0m: "
     ]
    }
   ],
   "source": [
    "from IPython.display import IFrame\n",
    "import webbrowser\n",
    "subscription_key = \"5b1d8775f8fd485e9fd2bea8c1d21d16\"\n",
    "search_url = \"https://api.bing.microsoft.com/v7.0/search\"\n",
    "for name in listofNames:\n",
    "    search_term = name +' '+search_site\n",
    "    headers = {\"Ocp-Apim-Subscription-Key\": subscription_key}\n",
    "    params = {\"q\": search_term, \"textDecorations\": True, \"textFormat\": \"HTML\",\"count\": 1}\n",
    "    response = requests.get(search_url, headers=headers, params=params)\n",
    "    response.raise_for_status()\n",
    "    search_results = response.json()\n",
    "    #print(search_results)\n",
    "    for searchresult in search_results[\"webPages\"][\"value\"]:\n",
    "        #htmlstring = '<a href=\\\"{0}\\\">link</a>'.format(searchresult[\"url\"])\n",
    "        #IFrame(src='www.google.com', width=700, height=600)\n",
    "        url = searchresult[\"url\"]\n",
    "        print(name)\n",
    "        print(url)\n",
    "        webbrowser.open(url)"
   ]
  },
  {
   "cell_type": "code",
   "execution_count": null,
   "metadata": {
    "tags": [
     "outputPrepend"
    ]
   },
   "outputs": [],
   "source": [
    "print(response)"
   ]
  },
  {
   "cell_type": "code",
   "execution_count": null,
   "metadata": {},
   "outputs": [],
   "source": []
  }
 ]
}