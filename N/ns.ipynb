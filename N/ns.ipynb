{
 "metadata": {
  "language_info": {
   "codemirror_mode": {
    "name": "ipython",
    "version": 3
   },
   "file_extension": ".py",
   "mimetype": "text/x-python",
   "name": "python",
   "nbconvert_exporter": "python",
   "pygments_lexer": "ipython3",
   "version": "3.7.6-final"
  },
  "orig_nbformat": 2,
  "kernelspec": {
   "name": "python3",
   "display_name": "Python 3",
   "language": "python"
  }
 },
 "nbformat": 4,
 "nbformat_minor": 2,
 "cells": [
  {
   "cell_type": "code",
   "execution_count": 36,
   "metadata": {},
   "outputs": [],
   "source": [
    "subscription_key = \"5b1d8775f8fd485e9fd2bea8c1d21d16\"\n",
    "assert subscription_key\n",
    "search_url = \"https://api.bing.microsoft.com/v7.0/search\"\n",
    "search_term = \"fintech faculty site:harvard.edu\""
   ]
  },
  {
   "cell_type": "code",
   "execution_count": 37,
   "metadata": {},
   "outputs": [],
   "source": [
    "import requests\n",
    "\n",
    "headers = {\"Ocp-Apim-Subscription-Key\": subscription_key}\n",
    "params = {\"q\": search_term, \"textDecorations\": True, \"textFormat\": \"HTML\"}\n",
    "response = requests.get(search_url, headers=headers, params=params)\n",
    "response.raise_for_status()\n",
    "search_results = response.json()"
   ]
  },
  {
   "cell_type": "code",
   "execution_count": 38,
   "metadata": {},
   "outputs": [
    {
     "output_type": "execute_result",
     "data": {
      "text/plain": [
       "<IPython.core.display.HTML object>"
      ],
      "text/html": "<table><tr>\n                       <td><a href=\"https://online-learning.harvard.edu/course/fintech\">FinTech | Harvard University</a></td>\n                       <td>In the FinTech online short course from Harvard’s Office of the Vice Provost for Advances in Learning (VPAL), in association with HarvardX, you’ll explore how FinTech companies have filled gaps left by existing financial institutions to serve customers’ changing needs.</td>\n                     </tr>\n<tr>\n                       <td><a href=\"https://corpgov.law.harvard.edu/2019/11/20/fintech-bigtech-and-the-future-of-banks/\">FinTech, BigTech, and the Future of Banks</a></td>\n                       <td>In my paper titled FinTech,<b></b> BigTech,<b></b> and the Future of Banks, I examine how FinTech and BigTech impact the future of banks.For this article, FinTech is defined as financial innovation based on the use of digital technologies and big data. BigTech firms are “technology companies with established presence in the market for digital services” according to the BIS.</td>\n                     </tr>\n<tr>\n                       <td><a href=\"https://hls.harvard.edu/academics/curriculum/catalog/default.aspx?o=75332\">FinTech | Harvard Law School</a></td>\n                       <td><b>Faculty</b> &amp; Research. Dedicated to excellence in teaching, scholarship, and interdisciplinary exploration. <b>Faculty</b> &amp; Research Overview . <b>Faculty</b> Directory; ... FinTech. Professor Howell Jackson, Ms. Margaret Tahyar Spring 2020 course Th, F 1:00pm - 3:00pm in WCC Room 1023 2 classroom credits.</td>\n                     </tr>\n<tr>\n                       <td><a href=\"https://online-learning.harvard.edu/course/leveraging-fintech-innovation-grow-and-compete%E2%80%94virtual\">Leveraging Fintech Innovation to Grow and Compete—Virtual ...</a></td>\n                       <td>Leveraging Fintech Innovation to Grow and Compete—Virtual incorporates multiple learning methodologies, including case studies, interactive <b>faculty</b> presentations, guest speakers, and small-group discussions. Drawing on the experience of fintech leaders, investors from venture capital firms, and executives from traditional financial ...</td>\n                     </tr>\n<tr>\n                       <td><a href=\"https://casestudies.law.harvard.edu/fintech-charter/\">Fintech Charter - Harvard Law School The Case Studies</a></td>\n                       <td>Fintech Charter Margaret Tahyar, Madison Roberts, and Carol Rodrigues of Davis Polk &amp; Wardwell, with the assistance of Professor Howell E. Jackson</td>\n                     </tr>\n<tr>\n                       <td><a href=\"https://www.hks.harvard.edu/centers/mrcbg/programs/growthpolicy/fintech-borrowers-lax-screening-or-cream-skimming-marco\">Fintech Borrowers: Lax-Screening or Cream-Skimming ...</a></td>\n                       <td>October 21, 2020, Paper: &quot;Personal credit is the fastest-growing segments of the consumer credit market, mainly driven by fintech lenders&#39; staggering expansion. We show that fintech lenders acquire market share by first lending to higher-risk borrowers and then to safer borrowers, and mainly rely on hard information to make credit decisions.</td>\n                     </tr>\n<tr>\n                       <td><a href=\"https://orgs.law.harvard.edu/hlsbfi/conferences/2020-conference/\">2020 Conference – HLS Blockchain and Fintech Initiative</a></td>\n                       <td>She is an affiliate <b>faculty</b> of Duke Center for Law and Technology. Prior to joining the legal profession, she was a fintech business analyst and software engineer at a major Wall Street financial firm in New York City working in (ironically) clearance, trade, and settlement and global portfolio technologies.</td>\n                     </tr>\n<tr>\n                       <td><a href=\"https://projects.iq.harvard.edu/files/financialregulation/files/the_nature_of_the_fintech_firm.pdf\">The Nature of the FinTech Firm - Harvard University</a></td>\n                       <td>The Nature of the Fintech Firm and its Implications for Financial Regulation I. INTRODUCTION The title of this chapter is an homage to Ronald Coase’s classic work, The Nature of the Firm, in which Professor Coase offered up a pithy, but profound, exposition of the question why some business activities are located within the discretionary control of</td>\n                     </tr>\n<tr>\n                       <td><a href=\"https://online-learning.harvard.edu/subject/finance\">Online Finance Courses | Harvard University</a></td>\n                       <td>Browse the latest online finance courses from Harvard University, including &quot;Nonprofit Financial Stewardship Webinar: Introduction to Accounting and Financial Statements&quot; and &quot;CORe.&quot;</td>\n                     </tr>\n<tr>\n                       <td><a href=\"https://corpgov.law.harvard.edu/2017/09/13/how-should-we-regulate-fintech/\">How Should We Regulate Fintech? - The Harvard Law School ...</a></td>\n                       <td>In the last decade, financial technology (or “fintech”) has revolutionized the way that finance works. Robo-advisors have turned the art of investing into an automated process run entirely by algorithms. Crowdfunding firms have harnessed the wisdom of crowds to make it easier than ever for individuals and companies to raise capital. And virtual currencies such […]</td>\n                     </tr></table>"
     },
     "metadata": {},
     "execution_count": 38
    }
   ],
   "source": [
    "from IPython.display import HTML\n",
    "\n",
    "rows = \"\\n\".join([\"\"\"<tr>\n",
    "                       <td><a href=\\\"{0}\\\">{1}</a></td>\n",
    "                       <td>{2}</td>\n",
    "                     </tr>\"\"\".format(v[\"url\"], v[\"name\"], v[\"snippet\"])\n",
    "                  for v in search_results[\"webPages\"][\"value\"]])\n",
    "HTML(\"<table>{0}</table>\".format(rows))"
   ]
  },
  {
   "cell_type": "code",
   "execution_count": 40,
   "metadata": {
    "tags": []
   },
   "outputs": [
    {
     "output_type": "stream",
     "name": "stdout",
     "text": [
      "https://online-learning.harvard.edu/course/fintech\n",
      "https://corpgov.law.harvard.edu/2019/11/20/fintech-bigtech-and-the-future-of-banks/\n",
      "https://hls.harvard.edu/academics/curriculum/catalog/default.aspx?o=75332\n",
      "J.D. Admissions\n",
      "Photography\n",
      "Howell Jackson\n",
      "Margaret TahyarSpring\n",
      "J.D.\n",
      "https://online-learning.harvard.edu/course/leveraging-fintech-innovation-grow-and-compete%E2%80%94virtual\n",
      "https://casestudies.law.harvard.edu/fintech-charter/\n",
      "ERROR\n",
      "https://www.hks.harvard.edu/centers/mrcbg/programs/growthpolicy/fintech-borrowers-lax-screening-or-cream-skimming-marco\n",
      "Robert Glauber\n",
      "Robert Glauber\n",
      "DiMaggio\n",
      "\n",
      "\n",
      "\n",
      "\n",
      "\n",
      "\n",
      "\n",
      "\n",
      "\n",
      "\n",
      "DiMaggio\n",
      "\n",
      "\n",
      "\n",
      "\n",
      "\n",
      "\n",
      "\n",
      "\n",
      "\n",
      "\n",
      "\n",
      "\n",
      "\n",
      "\n",
      "\n",
      "\n",
      "\n",
      "\n",
      "\n",
      "\n",
      "\n",
      "\n",
      "\n",
      "\n",
      "\n",
      "\n",
      "\n",
      "\n",
      "https://orgs.law.harvard.edu/hlsbfi/conferences/2020-conference/\n",
      "https://projects.iq.harvard.edu/files/financialregulation/files/the_nature_of_the_fintech_firm.pdf\n",
      "https://online-learning.harvard.edu/subject/finance\n",
      "Shakespeare\n",
      "https://corpgov.law.harvard.edu/2017/09/13/how-should-we-regulate-fintech/\n"
     ]
    }
   ],
   "source": [
    "import urllib.request, urllib.error, urllib.parse\n",
    "from requests import get\n",
    "from bs4 import BeautifulSoup\n",
    "import pandas as pd\n",
    "import spacy\n",
    "from spacy import displacy\n",
    "import en_core_web_lg\n",
    "nlp = spacy.load('en_core_web_lg')\n",
    "counter =0\n",
    "for searchresult in search_results[\"webPages\"][\"value\"]:\n",
    "    url = searchresult[\"url\"]\n",
    "    print(url)\n",
    "    try:   \n",
    "        response = get(url).content\n",
    "        soup = BeautifulSoup(response)\n",
    "        for script in soup([\"script\", \"style\"]):\n",
    "            script.extract()\n",
    "        counter = counter+1\n",
    "        f= open(str(counter)+\".txt\",\"w\",encoding='utf-8')\n",
    "        #print(counter)\n",
    "        cleanedtext = soup.text.strip('\\t\\r\\n')\n",
    "        f.write(cleanedtext)\n",
    "        f.close()\n",
    "        doc = nlp(cleanedtext)\n",
    "        for ent in doc.ents:\n",
    "            if(ent.label_ == 'PERSON'):\n",
    "                print(ent.text)\n",
    "    except:\n",
    "        print(\"ERROR\")\n",
    "        # doc = nlp(soup.text.strip('\\t\\r\\n'))\n",
    "        # for ent in doc.ents:\n",
    "        #     if(ent.label_ == 'PERSON'):\n",
    "        #         print(ent.text)\n",
    "    # except error:\n",
    "    #     print(error)\n",
    "\n"
   ]
  },
  {
   "cell_type": "code",
   "execution_count": null,
   "metadata": {},
   "outputs": [],
   "source": []
  }
 ]
}